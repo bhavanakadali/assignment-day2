{
  "nbformat": 4,
  "nbformat_minor": 0,
  "metadata": {
    "colab": {
      "name": "assignment day 3.ipynb",
      "provenance": []
    },
    "kernelspec": {
      "name": "python3",
      "display_name": "Python 3"
    }
  },
  "cells": [
    {
      "cell_type": "code",
      "metadata": {
        "colab": {
          "base_uri": "https://localhost:8080/"
        },
        "id": "jMhNTRf87T67",
        "outputId": "8abc2665-85b8-489a-9d8b-1fbcb34294b8"
      },
      "source": [
        "ft=int(input())\r\n",
        "if ft<1000:\r\n",
        "  print(\"LAND THE PLANE\")\r\n",
        "elif ft>1000 and ft<5000:\r\n",
        "  print(\"come down to 1000ft\")\r\n",
        "elif ft>5000:\r\n",
        "  print(\"GO AROUND AND TURN LATER\")\r\n",
        "else:\r\n",
        "   print(\"HAVE A SAFE TRIP\")"
      ],
      "execution_count": 1,
      "outputs": [
        {
          "output_type": "stream",
          "text": [
            "2500\n",
            "come down to 1000ft\n"
          ],
          "name": "stdout"
        }
      ]
    }
  ]
}